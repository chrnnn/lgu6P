{
 "cells": [
  {
   "cell_type": "code",
   "execution_count": 1,
   "id": "b1810eba-8c7b-45bd-b6e8-aab0c09ba538",
   "metadata": {},
   "outputs": [],
   "source": [
    "import seaborn as sns\n",
    "import pandas as pd\n",
    "\n",
    "iris = sns.load_dataset(\"iris\")\n",
    "result = iris.loc[:, ['sepal_length', 'species']]"
   ]
  },
  {
   "cell_type": "markdown",
   "id": "0db3ab3a-df58-4c20-8bc4-863a305b0913",
   "metadata": {},
   "source": [
    "## 미션\n",
    "- 파일명 iris_mission.csv\n",
    "- 저장 위치 : lab01/dataset/iris_mission.csv"
   ]
  },
  {
   "cell_type": "code",
   "execution_count": 4,
   "id": "5e45f0fb-6ded-4b9d-a910-5f2917cefdf8",
   "metadata": {},
   "outputs": [],
   "source": [
    "result.to_csv(\"../../lab01/dataset/iris_mission.csv\", index=False)"
   ]
  }
 ],
 "metadata": {
  "kernelspec": {
   "display_name": "Python 3 (ipykernel)",
   "language": "python",
   "name": "python3"
  },
  "language_info": {
   "codemirror_mode": {
    "name": "ipython",
    "version": 3
   },
   "file_extension": ".py",
   "mimetype": "text/x-python",
   "name": "python",
   "nbconvert_exporter": "python",
   "pygments_lexer": "ipython3",
   "version": "3.13.2"
  }
 },
 "nbformat": 4,
 "nbformat_minor": 5
}
